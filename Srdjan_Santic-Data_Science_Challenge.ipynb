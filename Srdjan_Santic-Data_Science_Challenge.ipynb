{
 "cells": [
  {
   "cell_type": "markdown",
   "metadata": {},
   "source": [
    "# Travel Audience Data Science Challenge #"
   ]
  },
  {
   "cell_type": "markdown",
   "metadata": {},
   "source": [
    "## Goal ##"
   ]
  },
  {
   "cell_type": "markdown",
   "metadata": {},
   "source": [
    "One of the main problems we face at travel audience is identifying users that will eventually book a trip to an advertised destination. In this challenge, you are tasked to build a classifier to predict the conversion likelihood of a user based on previous search events, with emphasis on the feature engineering and evaluation part."
   ]
  },
  {
   "cell_type": "markdown",
   "metadata": {},
   "source": [
    "## Data ##"
   ]
  },
  {
   "cell_type": "markdown",
   "metadata": {},
   "source": [
    "You are provided with two sample data sets\n",
    "\n",
    "- `events.csv.gz` - A sample of events collected from an online travel agency, containing:\n",
    "  * `ts` - the timestamp of the event\n",
    "  * `event_type` - either `search` for searches made on the site, or `book` for a conversion, e.g. the user books the flight\n",
    "  * `user_id` - unique identifier of a user\n",
    "  * `date_from` - desired start date of the journey\n",
    "  * `date_to` - desired end date of the journey\n",
    "  * `origin` - IATA airport code of the origin airport\n",
    "  * `destination` - IATA airport code of the destination airport\n",
    "  * `num_adults` - number of adults\n",
    "  * `num_children` - number of children\n",
    "\n",
    "- `iata.csv` - containing geo-coordinates of major airports\n",
    "  * `iata_code` - IATA code of the airport\n",
    "  * `lat` - latitude in floating point format\n",
    "  * `lon` - longitude in floating point format"
   ]
  },
  {
   "cell_type": "markdown",
   "metadata": {},
   "source": [
    "## Tasks ##"
   ]
  },
  {
   "cell_type": "markdown",
   "metadata": {},
   "source": [
    "Your code needs to do the following:\n",
    "\n",
    "- Data preparation:\n",
    "  - Calculate the geographic distance between origins and destinations\n",
    "  - Convert raw data to a format suitable for the classification task\n",
    "- Feature_engineering:\n",
    "  - Based on the given input data, compute and justify three features of your choice that are relevant for predicting converters\n",
    "- Experimental design:\n",
    "  - Split data into test and training sets in a meaningful way\n",
    "- Model:\n",
    "  - A classifier of your choice that predicts the conversion-likelihood of a user\n",
    "\n",
    "Use your best judgment to define rules and logic to compute each feature. Don't forget to comment your code!"
   ]
  },
  {
   "cell_type": "markdown",
   "metadata": {},
   "source": [
    "## Deliverables ##"
   ]
  },
  {
   "cell_type": "markdown",
   "metadata": {},
   "source": [
    "Code & comments that satisfy the tasks and demonstrate your coding style in Python or R. In addition, instructions on how to run your code.\n",
    "\n",
    "We'll be evaluating the quality of your code, communication, and general solution design. We won't evaluate the actual performance of your model."
   ]
  },
  {
   "cell_type": "markdown",
   "metadata": {},
   "source": [
    "<br>\n",
    "<br>"
   ]
  },
  {
   "cell_type": "markdown",
   "metadata": {},
   "source": [
    "### Imports ###"
   ]
  },
  {
   "cell_type": "code",
   "execution_count": 119,
   "metadata": {},
   "outputs": [],
   "source": [
    "import numpy as np\n",
    "import pandas as pd\n",
    "from haversine import haversine"
   ]
  },
  {
   "cell_type": "code",
   "execution_count": 137,
   "metadata": {},
   "outputs": [],
   "source": [
    "events = pd.read_csv('events.csv')"
   ]
  },
  {
   "cell_type": "code",
   "execution_count": 138,
   "metadata": {},
   "outputs": [],
   "source": [
    "iata = pd.read_csv('iata.csv')"
   ]
  },
  {
   "cell_type": "code",
   "execution_count": 139,
   "metadata": {},
   "outputs": [
    {
     "data": {
      "text/html": [
       "<div>\n",
       "<style scoped>\n",
       "    .dataframe tbody tr th:only-of-type {\n",
       "        vertical-align: middle;\n",
       "    }\n",
       "\n",
       "    .dataframe tbody tr th {\n",
       "        vertical-align: top;\n",
       "    }\n",
       "\n",
       "    .dataframe thead th {\n",
       "        text-align: right;\n",
       "    }\n",
       "</style>\n",
       "<table border=\"1\" class=\"dataframe\">\n",
       "  <thead>\n",
       "    <tr style=\"text-align: right;\">\n",
       "      <th></th>\n",
       "      <th>ts</th>\n",
       "      <th>event_type</th>\n",
       "      <th>user_id</th>\n",
       "      <th>date_from</th>\n",
       "      <th>date_to</th>\n",
       "      <th>origin</th>\n",
       "      <th>destination</th>\n",
       "      <th>num_adults</th>\n",
       "      <th>num_children</th>\n",
       "    </tr>\n",
       "  </thead>\n",
       "  <tbody>\n",
       "    <tr>\n",
       "      <th>0</th>\n",
       "      <td>2017-04-27 11:06:51</td>\n",
       "      <td>search</td>\n",
       "      <td>60225f</td>\n",
       "      <td>2017-06-01</td>\n",
       "      <td>2017-06-07</td>\n",
       "      <td>PAR</td>\n",
       "      <td>NYC</td>\n",
       "      <td>6</td>\n",
       "      <td>1</td>\n",
       "    </tr>\n",
       "    <tr>\n",
       "      <th>1</th>\n",
       "      <td>2017-04-27 20:15:27</td>\n",
       "      <td>book</td>\n",
       "      <td>e5d69e</td>\n",
       "      <td>2017-08-12</td>\n",
       "      <td>2017-09-02</td>\n",
       "      <td>FRA</td>\n",
       "      <td>WAS</td>\n",
       "      <td>3</td>\n",
       "      <td>1</td>\n",
       "    </tr>\n",
       "    <tr>\n",
       "      <th>2</th>\n",
       "      <td>2017-04-27 23:03:43</td>\n",
       "      <td>book</td>\n",
       "      <td>f953f0</td>\n",
       "      <td>2017-10-08</td>\n",
       "      <td>2017-10-11</td>\n",
       "      <td>BER</td>\n",
       "      <td>CGN</td>\n",
       "      <td>2</td>\n",
       "      <td>0</td>\n",
       "    </tr>\n",
       "    <tr>\n",
       "      <th>3</th>\n",
       "      <td>2017-04-27 15:17:50</td>\n",
       "      <td>book</td>\n",
       "      <td>794d35</td>\n",
       "      <td>2017-04-28</td>\n",
       "      <td>2017-05-01</td>\n",
       "      <td>BER</td>\n",
       "      <td>BCN</td>\n",
       "      <td>1</td>\n",
       "      <td>0</td>\n",
       "    </tr>\n",
       "    <tr>\n",
       "      <th>4</th>\n",
       "      <td>2017-04-27 22:51:57</td>\n",
       "      <td>book</td>\n",
       "      <td>ca4f94</td>\n",
       "      <td>2017-05-16</td>\n",
       "      <td>2017-05-22</td>\n",
       "      <td>DEL</td>\n",
       "      <td>BKK</td>\n",
       "      <td>4</td>\n",
       "      <td>0</td>\n",
       "    </tr>\n",
       "  </tbody>\n",
       "</table>\n",
       "</div>"
      ],
      "text/plain": [
       "                    ts event_type user_id   date_from     date_to origin  \\\n",
       "0  2017-04-27 11:06:51     search  60225f  2017-06-01  2017-06-07    PAR   \n",
       "1  2017-04-27 20:15:27       book  e5d69e  2017-08-12  2017-09-02    FRA   \n",
       "2  2017-04-27 23:03:43       book  f953f0  2017-10-08  2017-10-11    BER   \n",
       "3  2017-04-27 15:17:50       book  794d35  2017-04-28  2017-05-01    BER   \n",
       "4  2017-04-27 22:51:57       book  ca4f94  2017-05-16  2017-05-22    DEL   \n",
       "\n",
       "  destination  num_adults  num_children  \n",
       "0         NYC           6             1  \n",
       "1         WAS           3             1  \n",
       "2         CGN           2             0  \n",
       "3         BCN           1             0  \n",
       "4         BKK           4             0  "
      ]
     },
     "execution_count": 139,
     "metadata": {},
     "output_type": "execute_result"
    }
   ],
   "source": [
    "events.head()"
   ]
  },
  {
   "cell_type": "code",
   "execution_count": 140,
   "metadata": {},
   "outputs": [],
   "source": [
    "events = events.merge(iata, how='left', left_on='origin', right_on='iata_code')"
   ]
  },
  {
   "cell_type": "code",
   "execution_count": 141,
   "metadata": {},
   "outputs": [],
   "source": [
    "events.rename(columns={'lat': 'origin_lat', 'lon': 'origin_lon'}, inplace=True)\n",
    "del events['iata_code']"
   ]
  },
  {
   "cell_type": "code",
   "execution_count": 142,
   "metadata": {},
   "outputs": [],
   "source": [
    "events = events.merge(iata, how='left', left_on='destination', right_on='iata_code')"
   ]
  },
  {
   "cell_type": "code",
   "execution_count": 143,
   "metadata": {},
   "outputs": [],
   "source": [
    "events.rename(columns={'lat': 'dest_lat', 'lon': 'dest_lon'}, inplace=True)\n",
    "del events['iata_code']"
   ]
  },
  {
   "cell_type": "code",
   "execution_count": 144,
   "metadata": {},
   "outputs": [
    {
     "data": {
      "text/plain": [
       "Index(['ts', 'event_type', 'user_id', 'date_from', 'date_to', 'origin',\n",
       "       'destination', 'num_adults', 'num_children', 'origin_lat', 'origin_lon',\n",
       "       'dest_lat', 'dest_lon'],\n",
       "      dtype='object')"
      ]
     },
     "execution_count": 144,
     "metadata": {},
     "output_type": "execute_result"
    }
   ],
   "source": [
    "events.columns"
   ]
  },
  {
   "cell_type": "code",
   "execution_count": 145,
   "metadata": {},
   "outputs": [
    {
     "data": {
      "text/plain": [
       "search    45198\n",
       "book       1809\n",
       "Name: event_type, dtype: int64"
      ]
     },
     "execution_count": 145,
     "metadata": {},
     "output_type": "execute_result"
    }
   ],
   "source": [
    "events['event_type'].value_counts()"
   ]
  },
  {
   "cell_type": "code",
   "execution_count": null,
   "metadata": {},
   "outputs": [],
   "source": []
  },
  {
   "cell_type": "code",
   "execution_count": 146,
   "metadata": {},
   "outputs": [],
   "source": [
    "events['trip_len'] = (pd.to_datetime(events['date_to']) - pd.to_datetime(events['date_from'])).dt.days"
   ]
  },
  {
   "cell_type": "code",
   "execution_count": 147,
   "metadata": {},
   "outputs": [],
   "source": [
    "events['travel_dist'] = events.apply(lambda x: haversine((x['origin_lat'], x['origin_lon']), (x['dest_lat'], x['dest_lon']), unit='km'), axis=1)"
   ]
  },
  {
   "cell_type": "code",
   "execution_count": 149,
   "metadata": {},
   "outputs": [],
   "source": [
    "events.sort_values('ts',inplace=True)"
   ]
  },
  {
   "cell_type": "code",
   "execution_count": 150,
   "metadata": {},
   "outputs": [],
   "source": [
    "events.reset_index(inplace=True)"
   ]
  },
  {
   "cell_type": "code",
   "execution_count": 151,
   "metadata": {},
   "outputs": [],
   "source": [
    "df1 = events.set_index('event_type', append=True)['user_id'].unstack().add_prefix('num_')\n",
    "df1 = pd.concat([df1.dropna(subset=[c]).groupby(c).cumcount().add(1) \n",
    "                                             for c in df1.columns], axis=1, keys=df1.columns)"
   ]
  },
  {
   "cell_type": "code",
   "execution_count": 152,
   "metadata": {},
   "outputs": [],
   "source": [
    "events = events.join(df1.groupby(events['user_id']).ffill().fillna(0).astype(int))"
   ]
  },
  {
   "cell_type": "code",
   "execution_count": 153,
   "metadata": {},
   "outputs": [
    {
     "data": {
      "text/html": [
       "<div>\n",
       "<style scoped>\n",
       "    .dataframe tbody tr th:only-of-type {\n",
       "        vertical-align: middle;\n",
       "    }\n",
       "\n",
       "    .dataframe tbody tr th {\n",
       "        vertical-align: top;\n",
       "    }\n",
       "\n",
       "    .dataframe thead th {\n",
       "        text-align: right;\n",
       "    }\n",
       "</style>\n",
       "<table border=\"1\" class=\"dataframe\">\n",
       "  <thead>\n",
       "    <tr style=\"text-align: right;\">\n",
       "      <th></th>\n",
       "      <th>index</th>\n",
       "      <th>ts</th>\n",
       "      <th>event_type</th>\n",
       "      <th>user_id</th>\n",
       "      <th>date_from</th>\n",
       "      <th>date_to</th>\n",
       "      <th>origin</th>\n",
       "      <th>destination</th>\n",
       "      <th>num_adults</th>\n",
       "      <th>num_children</th>\n",
       "      <th>origin_lat</th>\n",
       "      <th>origin_lon</th>\n",
       "      <th>dest_lat</th>\n",
       "      <th>dest_lon</th>\n",
       "      <th>trip_len</th>\n",
       "      <th>travel_dist</th>\n",
       "      <th>num_book</th>\n",
       "      <th>num_search</th>\n",
       "    </tr>\n",
       "  </thead>\n",
       "  <tbody>\n",
       "    <tr>\n",
       "      <th>0</th>\n",
       "      <td>3919</td>\n",
       "      <td>2017-04-18 04:41:09</td>\n",
       "      <td>search</td>\n",
       "      <td>10fc25</td>\n",
       "      <td>2017-05-05</td>\n",
       "      <td>2017-05-18</td>\n",
       "      <td>MRS</td>\n",
       "      <td>MIA</td>\n",
       "      <td>1</td>\n",
       "      <td>0</td>\n",
       "      <td>-85.077306</td>\n",
       "      <td>-103.303183</td>\n",
       "      <td>-41.495320</td>\n",
       "      <td>-80.770338</td>\n",
       "      <td>13.0</td>\n",
       "      <td>4891.279315</td>\n",
       "      <td>0</td>\n",
       "      <td>1</td>\n",
       "    </tr>\n",
       "    <tr>\n",
       "      <th>1</th>\n",
       "      <td>3689</td>\n",
       "      <td>2017-04-18 06:08:06</td>\n",
       "      <td>search</td>\n",
       "      <td>2c3d94</td>\n",
       "      <td>2017-05-30</td>\n",
       "      <td>2017-06-02</td>\n",
       "      <td>FRA</td>\n",
       "      <td>BCN</td>\n",
       "      <td>2</td>\n",
       "      <td>0</td>\n",
       "      <td>-88.026756</td>\n",
       "      <td>-78.978109</td>\n",
       "      <td>27.961273</td>\n",
       "      <td>166.863410</td>\n",
       "      <td>3.0</td>\n",
       "      <td>13204.814377</td>\n",
       "      <td>0</td>\n",
       "      <td>1</td>\n",
       "    </tr>\n",
       "    <tr>\n",
       "      <th>2</th>\n",
       "      <td>3232</td>\n",
       "      <td>2017-04-18 06:11:20</td>\n",
       "      <td>search</td>\n",
       "      <td>2c3d94</td>\n",
       "      <td>2017-05-30</td>\n",
       "      <td>2017-06-02</td>\n",
       "      <td>FRA</td>\n",
       "      <td>BCN</td>\n",
       "      <td>2</td>\n",
       "      <td>0</td>\n",
       "      <td>-88.026756</td>\n",
       "      <td>-78.978109</td>\n",
       "      <td>27.961273</td>\n",
       "      <td>166.863410</td>\n",
       "      <td>3.0</td>\n",
       "      <td>13204.814377</td>\n",
       "      <td>0</td>\n",
       "      <td>2</td>\n",
       "    </tr>\n",
       "    <tr>\n",
       "      <th>3</th>\n",
       "      <td>3523</td>\n",
       "      <td>2017-04-18 07:18:38</td>\n",
       "      <td>search</td>\n",
       "      <td>a8590b</td>\n",
       "      <td>2017-04-19</td>\n",
       "      <td>2017-05-24</td>\n",
       "      <td>HAM</td>\n",
       "      <td>BCN</td>\n",
       "      <td>1</td>\n",
       "      <td>0</td>\n",
       "      <td>-65.797210</td>\n",
       "      <td>29.715909</td>\n",
       "      <td>27.961273</td>\n",
       "      <td>166.863410</td>\n",
       "      <td>35.0</td>\n",
       "      <td>14886.581651</td>\n",
       "      <td>0</td>\n",
       "      <td>1</td>\n",
       "    </tr>\n",
       "    <tr>\n",
       "      <th>4</th>\n",
       "      <td>3092</td>\n",
       "      <td>2017-04-18 07:40:59</td>\n",
       "      <td>search</td>\n",
       "      <td>a8590b</td>\n",
       "      <td>2017-04-19</td>\n",
       "      <td>2017-04-22</td>\n",
       "      <td>HAM</td>\n",
       "      <td>BCN</td>\n",
       "      <td>1</td>\n",
       "      <td>0</td>\n",
       "      <td>-65.797210</td>\n",
       "      <td>29.715909</td>\n",
       "      <td>27.961273</td>\n",
       "      <td>166.863410</td>\n",
       "      <td>3.0</td>\n",
       "      <td>14886.581651</td>\n",
       "      <td>0</td>\n",
       "      <td>2</td>\n",
       "    </tr>\n",
       "    <tr>\n",
       "      <th>...</th>\n",
       "      <td>...</td>\n",
       "      <td>...</td>\n",
       "      <td>...</td>\n",
       "      <td>...</td>\n",
       "      <td>...</td>\n",
       "      <td>...</td>\n",
       "      <td>...</td>\n",
       "      <td>...</td>\n",
       "      <td>...</td>\n",
       "      <td>...</td>\n",
       "      <td>...</td>\n",
       "      <td>...</td>\n",
       "      <td>...</td>\n",
       "      <td>...</td>\n",
       "      <td>...</td>\n",
       "      <td>...</td>\n",
       "      <td>...</td>\n",
       "      <td>...</td>\n",
       "    </tr>\n",
       "    <tr>\n",
       "      <th>47002</th>\n",
       "      <td>42340</td>\n",
       "      <td>2017-05-02 04:01:17</td>\n",
       "      <td>search</td>\n",
       "      <td>a51dd0</td>\n",
       "      <td>2017-05-03</td>\n",
       "      <td>2017-05-05</td>\n",
       "      <td>FRA</td>\n",
       "      <td>IST</td>\n",
       "      <td>1</td>\n",
       "      <td>0</td>\n",
       "      <td>-88.026756</td>\n",
       "      <td>-78.978109</td>\n",
       "      <td>80.704313</td>\n",
       "      <td>-123.580997</td>\n",
       "      <td>2.0</td>\n",
       "      <td>18815.411765</td>\n",
       "      <td>0</td>\n",
       "      <td>1</td>\n",
       "    </tr>\n",
       "    <tr>\n",
       "      <th>47003</th>\n",
       "      <td>41142</td>\n",
       "      <td>2017-05-02 04:01:33</td>\n",
       "      <td>search</td>\n",
       "      <td>ccdb92</td>\n",
       "      <td>2017-09-24</td>\n",
       "      <td>2017-10-16</td>\n",
       "      <td>ORY</td>\n",
       "      <td>OPO</td>\n",
       "      <td>4</td>\n",
       "      <td>0</td>\n",
       "      <td>63.232777</td>\n",
       "      <td>-98.270180</td>\n",
       "      <td>28.342015</td>\n",
       "      <td>26.149790</td>\n",
       "      <td>22.0</td>\n",
       "      <td>8725.960760</td>\n",
       "      <td>0</td>\n",
       "      <td>1</td>\n",
       "    </tr>\n",
       "    <tr>\n",
       "      <th>47004</th>\n",
       "      <td>45117</td>\n",
       "      <td>2017-05-02 04:02:39</td>\n",
       "      <td>search</td>\n",
       "      <td>f82db9</td>\n",
       "      <td>2017-10-18</td>\n",
       "      <td>2017-11-03</td>\n",
       "      <td>DUS</td>\n",
       "      <td>HNL</td>\n",
       "      <td>1</td>\n",
       "      <td>0</td>\n",
       "      <td>41.220876</td>\n",
       "      <td>147.690852</td>\n",
       "      <td>85.156499</td>\n",
       "      <td>107.553020</td>\n",
       "      <td>16.0</td>\n",
       "      <td>5021.266807</td>\n",
       "      <td>0</td>\n",
       "      <td>2</td>\n",
       "    </tr>\n",
       "    <tr>\n",
       "      <th>47005</th>\n",
       "      <td>41018</td>\n",
       "      <td>2017-05-02 04:06:18</td>\n",
       "      <td>search</td>\n",
       "      <td>51e763</td>\n",
       "      <td>2017-05-11</td>\n",
       "      <td>2017-05-12</td>\n",
       "      <td>PAR</td>\n",
       "      <td>VIE</td>\n",
       "      <td>2</td>\n",
       "      <td>0</td>\n",
       "      <td>-85.864998</td>\n",
       "      <td>-73.578576</td>\n",
       "      <td>-5.985141</td>\n",
       "      <td>-139.866217</td>\n",
       "      <td>1.0</td>\n",
       "      <td>9158.733291</td>\n",
       "      <td>0</td>\n",
       "      <td>2</td>\n",
       "    </tr>\n",
       "    <tr>\n",
       "      <th>47006</th>\n",
       "      <td>17663</td>\n",
       "      <td>2017-05-02 04:06:34</td>\n",
       "      <td>search</td>\n",
       "      <td>bf8264</td>\n",
       "      <td>2017-05-27</td>\n",
       "      <td>2017-06-10</td>\n",
       "      <td>FRA</td>\n",
       "      <td>SGN</td>\n",
       "      <td>1</td>\n",
       "      <td>0</td>\n",
       "      <td>-88.026756</td>\n",
       "      <td>-78.978109</td>\n",
       "      <td>-4.985813</td>\n",
       "      <td>-92.153295</td>\n",
       "      <td>14.0</td>\n",
       "      <td>9239.539156</td>\n",
       "      <td>0</td>\n",
       "      <td>1</td>\n",
       "    </tr>\n",
       "  </tbody>\n",
       "</table>\n",
       "<p>47007 rows × 18 columns</p>\n",
       "</div>"
      ],
      "text/plain": [
       "       index                   ts event_type user_id   date_from     date_to  \\\n",
       "0       3919  2017-04-18 04:41:09     search  10fc25  2017-05-05  2017-05-18   \n",
       "1       3689  2017-04-18 06:08:06     search  2c3d94  2017-05-30  2017-06-02   \n",
       "2       3232  2017-04-18 06:11:20     search  2c3d94  2017-05-30  2017-06-02   \n",
       "3       3523  2017-04-18 07:18:38     search  a8590b  2017-04-19  2017-05-24   \n",
       "4       3092  2017-04-18 07:40:59     search  a8590b  2017-04-19  2017-04-22   \n",
       "...      ...                  ...        ...     ...         ...         ...   \n",
       "47002  42340  2017-05-02 04:01:17     search  a51dd0  2017-05-03  2017-05-05   \n",
       "47003  41142  2017-05-02 04:01:33     search  ccdb92  2017-09-24  2017-10-16   \n",
       "47004  45117  2017-05-02 04:02:39     search  f82db9  2017-10-18  2017-11-03   \n",
       "47005  41018  2017-05-02 04:06:18     search  51e763  2017-05-11  2017-05-12   \n",
       "47006  17663  2017-05-02 04:06:34     search  bf8264  2017-05-27  2017-06-10   \n",
       "\n",
       "      origin destination  num_adults  num_children  origin_lat  origin_lon  \\\n",
       "0        MRS         MIA           1             0  -85.077306 -103.303183   \n",
       "1        FRA         BCN           2             0  -88.026756  -78.978109   \n",
       "2        FRA         BCN           2             0  -88.026756  -78.978109   \n",
       "3        HAM         BCN           1             0  -65.797210   29.715909   \n",
       "4        HAM         BCN           1             0  -65.797210   29.715909   \n",
       "...      ...         ...         ...           ...         ...         ...   \n",
       "47002    FRA         IST           1             0  -88.026756  -78.978109   \n",
       "47003    ORY         OPO           4             0   63.232777  -98.270180   \n",
       "47004    DUS         HNL           1             0   41.220876  147.690852   \n",
       "47005    PAR         VIE           2             0  -85.864998  -73.578576   \n",
       "47006    FRA         SGN           1             0  -88.026756  -78.978109   \n",
       "\n",
       "        dest_lat    dest_lon  trip_len   travel_dist  num_book  num_search  \n",
       "0     -41.495320  -80.770338      13.0   4891.279315         0           1  \n",
       "1      27.961273  166.863410       3.0  13204.814377         0           1  \n",
       "2      27.961273  166.863410       3.0  13204.814377         0           2  \n",
       "3      27.961273  166.863410      35.0  14886.581651         0           1  \n",
       "4      27.961273  166.863410       3.0  14886.581651         0           2  \n",
       "...          ...         ...       ...           ...       ...         ...  \n",
       "47002  80.704313 -123.580997       2.0  18815.411765         0           1  \n",
       "47003  28.342015   26.149790      22.0   8725.960760         0           1  \n",
       "47004  85.156499  107.553020      16.0   5021.266807         0           2  \n",
       "47005  -5.985141 -139.866217       1.0   9158.733291         0           2  \n",
       "47006  -4.985813  -92.153295      14.0   9239.539156         0           1  \n",
       "\n",
       "[47007 rows x 18 columns]"
      ]
     },
     "execution_count": 153,
     "metadata": {},
     "output_type": "execute_result"
    }
   ],
   "source": [
    "events"
   ]
  },
  {
   "cell_type": "markdown",
   "metadata": {},
   "source": [
    "As we have a series of events that can be either `search` or `book`, and for a combination of user and journey over time, it gives us a sequence of events. Taking the last instance of that sequence of events, tells us whether it resulted in a booking, or not. "
   ]
  },
  {
   "cell_type": "code",
   "execution_count": 157,
   "metadata": {},
   "outputs": [],
   "source": [
    "events_grouped = events.groupby(['user_id', 'origin', 'destination']).tail(1)"
   ]
  },
  {
   "cell_type": "code",
   "execution_count": null,
   "metadata": {},
   "outputs": [],
   "source": []
  }
 ],
 "metadata": {
  "kernelspec": {
   "display_name": "Python 3",
   "language": "python",
   "name": "python3"
  },
  "language_info": {
   "codemirror_mode": {
    "name": "ipython",
    "version": 3
   },
   "file_extension": ".py",
   "mimetype": "text/x-python",
   "name": "python",
   "nbconvert_exporter": "python",
   "pygments_lexer": "ipython3",
   "version": "3.7.6"
  }
 },
 "nbformat": 4,
 "nbformat_minor": 4
}
