{
 "cells": [
  {
   "cell_type": "markdown",
   "metadata": {},
   "source": [
    "# Travel Audience Data Science Challenge #"
   ]
  },
  {
   "cell_type": "markdown",
   "metadata": {},
   "source": [
    "## Goal ##"
   ]
  },
  {
   "cell_type": "markdown",
   "metadata": {},
   "source": [
    "One of the main problems we face at travel audience is identifying users that will eventually book a trip to an advertised destination. In this challenge, you are tasked to build a classifier to predict the conversion likelihood of a user based on previous search events, with emphasis on the feature engineering and evaluation part."
   ]
  },
  {
   "cell_type": "markdown",
   "metadata": {},
   "source": [
    "## Data ##"
   ]
  },
  {
   "cell_type": "markdown",
   "metadata": {},
   "source": [
    "You are provided with two sample data sets\n",
    "\n",
    "- `events.csv.gz` - A sample of events collected from an online travel agency, containing:\n",
    "  * `ts` - the timestamp of the event\n",
    "  * `event_type` - either `search` for searches made on the site, or `book` for a conversion, e.g. the user books the flight\n",
    "  * `user_id` - unique identifier of a user\n",
    "  * `date_from` - desired start date of the journey\n",
    "  * `date_to` - desired end date of the journey\n",
    "  * `origin` - IATA airport code of the origin airport\n",
    "  * `destination` - IATA airport code of the destination airport\n",
    "  * `num_adults` - number of adults\n",
    "  * `num_children` - number of children\n",
    "\n",
    "- `iata.csv` - containing geo-coordinates of major airports\n",
    "  * `iata_code` - IATA code of the airport\n",
    "  * `lat` - latitude in floating point format\n",
    "  * `lon` - longitude in floating point format"
   ]
  },
  {
   "cell_type": "markdown",
   "metadata": {},
   "source": [
    "## Tasks ##"
   ]
  },
  {
   "cell_type": "markdown",
   "metadata": {},
   "source": [
    "Your code needs to do the following:\n",
    "\n",
    "- Data preparation:\n",
    "  - Calculate the geographic distance between origins and destinations\n",
    "  - Convert raw data to a format suitable for the classification task\n",
    "- Feature_engineering:\n",
    "  - Based on the given input data, compute and justify three features of your choice that are relevant for predicting converters\n",
    "- Experimental design:\n",
    "  - Split data into test and training sets in a meaningful way\n",
    "- Model:\n",
    "  - A classifier of your choice that predicts the conversion-likelihood of a user\n",
    "\n",
    "Use your best judgment to define rules and logic to compute each feature. Don't forget to comment your code!"
   ]
  },
  {
   "cell_type": "markdown",
   "metadata": {},
   "source": [
    "## Deliverables ##"
   ]
  },
  {
   "cell_type": "markdown",
   "metadata": {},
   "source": [
    "Code & comments that satisfy the tasks and demonstrate your coding style in Python or R. In addition, instructions on how to run your code.\n",
    "\n",
    "We'll be evaluating the quality of your code, communication, and general solution design. We won't evaluate the actual performance of your model."
   ]
  },
  {
   "cell_type": "markdown",
   "metadata": {},
   "source": [
    "<br>\n",
    "<br>"
   ]
  },
  {
   "cell_type": "markdown",
   "metadata": {},
   "source": [
    "### Imports ###"
   ]
  },
  {
   "cell_type": "code",
   "execution_count": 1,
   "metadata": {},
   "outputs": [],
   "source": [
    "import numpy as np\n",
    "import pandas as pd"
   ]
  },
  {
   "cell_type": "code",
   "execution_count": 2,
   "metadata": {},
   "outputs": [],
   "source": [
    "events = pd.read_csv('events.csv')"
   ]
  },
  {
   "cell_type": "code",
   "execution_count": 3,
   "metadata": {},
   "outputs": [],
   "source": [
    "iata = pd.read_csv('iata.csv')"
   ]
  },
  {
   "cell_type": "code",
   "execution_count": 6,
   "metadata": {},
   "outputs": [
    {
     "data": {
      "text/plain": [
       "Index(['iata_code', 'lat', 'lon'], dtype='object')"
      ]
     },
     "execution_count": 6,
     "metadata": {},
     "output_type": "execute_result"
    }
   ],
   "source": [
    "iata.columns"
   ]
  },
  {
   "cell_type": "code",
   "execution_count": 7,
   "metadata": {},
   "outputs": [],
   "source": [
    "events = events.merge(iata, how='left', left_on='origin', right_on='iata_code')"
   ]
  },
  {
   "cell_type": "code",
   "execution_count": 9,
   "metadata": {},
   "outputs": [],
   "source": [
    "events.rename(columns={'lat': 'origin_lat', 'lon': 'origin_lon'}, inplace=True)\n",
    "del events['iata_code']"
   ]
  },
  {
   "cell_type": "code",
   "execution_count": 11,
   "metadata": {},
   "outputs": [],
   "source": [
    "events = events.merge(iata, how='left', left_on='destination', right_on='iata_code')"
   ]
  },
  {
   "cell_type": "code",
   "execution_count": 13,
   "metadata": {},
   "outputs": [],
   "source": [
    "events.rename(columns={'lat': 'dest_lat', 'lon': 'dest_lon'}, inplace=True)\n",
    "del events['iata_code']"
   ]
  },
  {
   "cell_type": "code",
   "execution_count": 32,
   "metadata": {},
   "outputs": [
    {
     "data": {
      "text/html": [
       "<div>\n",
       "<style scoped>\n",
       "    .dataframe tbody tr th:only-of-type {\n",
       "        vertical-align: middle;\n",
       "    }\n",
       "\n",
       "    .dataframe tbody tr th {\n",
       "        vertical-align: top;\n",
       "    }\n",
       "\n",
       "    .dataframe thead th {\n",
       "        text-align: right;\n",
       "    }\n",
       "</style>\n",
       "<table border=\"1\" class=\"dataframe\">\n",
       "  <thead>\n",
       "    <tr style=\"text-align: right;\">\n",
       "      <th></th>\n",
       "      <th>ts</th>\n",
       "      <th>event_type</th>\n",
       "      <th>user_id</th>\n",
       "      <th>date_from</th>\n",
       "      <th>date_to</th>\n",
       "      <th>origin</th>\n",
       "      <th>destination</th>\n",
       "      <th>num_adults</th>\n",
       "      <th>num_children</th>\n",
       "      <th>origin_lat</th>\n",
       "      <th>origin_lon</th>\n",
       "      <th>dest_lat</th>\n",
       "      <th>dest_lon</th>\n",
       "      <th>lat_diff</th>\n",
       "      <th>lon_diff</th>\n",
       "      <th>travel_dist</th>\n",
       "      <th>trip_len</th>\n",
       "    </tr>\n",
       "  </thead>\n",
       "  <tbody>\n",
       "    <tr>\n",
       "      <th>0</th>\n",
       "      <td>2017-04-27 11:06:51</td>\n",
       "      <td>search</td>\n",
       "      <td>60225f</td>\n",
       "      <td>2017-06-01</td>\n",
       "      <td>2017-06-07</td>\n",
       "      <td>PAR</td>\n",
       "      <td>NYC</td>\n",
       "      <td>6</td>\n",
       "      <td>1</td>\n",
       "      <td>-85.864998</td>\n",
       "      <td>-73.578576</td>\n",
       "      <td>74.504691</td>\n",
       "      <td>91.281307</td>\n",
       "      <td>-160.369689</td>\n",
       "      <td>-164.859883</td>\n",
       "      <td>229.993952</td>\n",
       "      <td>6.0</td>\n",
       "    </tr>\n",
       "    <tr>\n",
       "      <th>1</th>\n",
       "      <td>2017-04-27 20:15:27</td>\n",
       "      <td>book</td>\n",
       "      <td>e5d69e</td>\n",
       "      <td>2017-08-12</td>\n",
       "      <td>2017-09-02</td>\n",
       "      <td>FRA</td>\n",
       "      <td>WAS</td>\n",
       "      <td>3</td>\n",
       "      <td>1</td>\n",
       "      <td>-88.026756</td>\n",
       "      <td>-78.978109</td>\n",
       "      <td>0.443496</td>\n",
       "      <td>149.840853</td>\n",
       "      <td>-88.470251</td>\n",
       "      <td>-228.818962</td>\n",
       "      <td>245.326522</td>\n",
       "      <td>21.0</td>\n",
       "    </tr>\n",
       "    <tr>\n",
       "      <th>2</th>\n",
       "      <td>2017-04-27 23:03:43</td>\n",
       "      <td>book</td>\n",
       "      <td>f953f0</td>\n",
       "      <td>2017-10-08</td>\n",
       "      <td>2017-10-11</td>\n",
       "      <td>BER</td>\n",
       "      <td>CGN</td>\n",
       "      <td>2</td>\n",
       "      <td>0</td>\n",
       "      <td>-85.879290</td>\n",
       "      <td>117.004643</td>\n",
       "      <td>86.505728</td>\n",
       "      <td>-128.116016</td>\n",
       "      <td>-172.385018</td>\n",
       "      <td>245.120659</td>\n",
       "      <td>299.667702</td>\n",
       "      <td>3.0</td>\n",
       "    </tr>\n",
       "    <tr>\n",
       "      <th>3</th>\n",
       "      <td>2017-04-27 15:17:50</td>\n",
       "      <td>book</td>\n",
       "      <td>794d35</td>\n",
       "      <td>2017-04-28</td>\n",
       "      <td>2017-05-01</td>\n",
       "      <td>BER</td>\n",
       "      <td>BCN</td>\n",
       "      <td>1</td>\n",
       "      <td>0</td>\n",
       "      <td>-85.879290</td>\n",
       "      <td>117.004643</td>\n",
       "      <td>27.961273</td>\n",
       "      <td>166.863410</td>\n",
       "      <td>-113.840563</td>\n",
       "      <td>-49.858767</td>\n",
       "      <td>124.280209</td>\n",
       "      <td>3.0</td>\n",
       "    </tr>\n",
       "    <tr>\n",
       "      <th>4</th>\n",
       "      <td>2017-04-27 22:51:57</td>\n",
       "      <td>book</td>\n",
       "      <td>ca4f94</td>\n",
       "      <td>2017-05-16</td>\n",
       "      <td>2017-05-22</td>\n",
       "      <td>DEL</td>\n",
       "      <td>BKK</td>\n",
       "      <td>4</td>\n",
       "      <td>0</td>\n",
       "      <td>-37.742818</td>\n",
       "      <td>-111.586759</td>\n",
       "      <td>1.697775</td>\n",
       "      <td>30.674010</td>\n",
       "      <td>-39.440594</td>\n",
       "      <td>-142.260769</td>\n",
       "      <td>147.626850</td>\n",
       "      <td>6.0</td>\n",
       "    </tr>\n",
       "  </tbody>\n",
       "</table>\n",
       "</div>"
      ],
      "text/plain": [
       "                    ts event_type user_id   date_from     date_to origin  \\\n",
       "0  2017-04-27 11:06:51     search  60225f  2017-06-01  2017-06-07    PAR   \n",
       "1  2017-04-27 20:15:27       book  e5d69e  2017-08-12  2017-09-02    FRA   \n",
       "2  2017-04-27 23:03:43       book  f953f0  2017-10-08  2017-10-11    BER   \n",
       "3  2017-04-27 15:17:50       book  794d35  2017-04-28  2017-05-01    BER   \n",
       "4  2017-04-27 22:51:57       book  ca4f94  2017-05-16  2017-05-22    DEL   \n",
       "\n",
       "  destination  num_adults  num_children  origin_lat  origin_lon   dest_lat  \\\n",
       "0         NYC           6             1  -85.864998  -73.578576  74.504691   \n",
       "1         WAS           3             1  -88.026756  -78.978109   0.443496   \n",
       "2         CGN           2             0  -85.879290  117.004643  86.505728   \n",
       "3         BCN           1             0  -85.879290  117.004643  27.961273   \n",
       "4         BKK           4             0  -37.742818 -111.586759   1.697775   \n",
       "\n",
       "     dest_lon    lat_diff    lon_diff  travel_dist  trip_len  \n",
       "0   91.281307 -160.369689 -164.859883   229.993952       6.0  \n",
       "1  149.840853  -88.470251 -228.818962   245.326522      21.0  \n",
       "2 -128.116016 -172.385018  245.120659   299.667702       3.0  \n",
       "3  166.863410 -113.840563  -49.858767   124.280209       3.0  \n",
       "4   30.674010  -39.440594 -142.260769   147.626850       6.0  "
      ]
     },
     "execution_count": 32,
     "metadata": {},
     "output_type": "execute_result"
    }
   ],
   "source": [
    "events.head(5)"
   ]
  },
  {
   "cell_type": "code",
   "execution_count": 34,
   "metadata": {},
   "outputs": [
    {
     "data": {
      "text/plain": [
       "search    45198\n",
       "book       1809\n",
       "Name: event_type, dtype: int64"
      ]
     },
     "execution_count": 34,
     "metadata": {},
     "output_type": "execute_result"
    }
   ],
   "source": [
    "events['event_type'].value_counts()"
   ]
  },
  {
   "cell_type": "code",
   "execution_count": 16,
   "metadata": {},
   "outputs": [],
   "source": [
    "events['lat_diff'] = events['origin_lat'] - events['dest_lat']"
   ]
  },
  {
   "cell_type": "code",
   "execution_count": 19,
   "metadata": {},
   "outputs": [],
   "source": [
    "events['lon_diff'] = events['origin_lon'] - events['dest_lon']"
   ]
  },
  {
   "cell_type": "code",
   "execution_count": 21,
   "metadata": {},
   "outputs": [],
   "source": [
    "events['travel_dist'] = np.sqrt((events['lat_diff'] ** 2) + (events['lon_diff'] ** 2))"
   ]
  },
  {
   "cell_type": "code",
   "execution_count": 31,
   "metadata": {},
   "outputs": [],
   "source": [
    "events['trip_len'] = (pd.to_datetime(events['date_to']) - pd.to_datetime(events['date_from'])).dt.days"
   ]
  },
  {
   "cell_type": "code",
   "execution_count": null,
   "metadata": {},
   "outputs": [],
   "source": []
  },
  {
   "cell_type": "code",
   "execution_count": null,
   "metadata": {},
   "outputs": [],
   "source": []
  }
 ],
 "metadata": {
  "kernelspec": {
   "display_name": "Python 3",
   "language": "python",
   "name": "python3"
  },
  "language_info": {
   "codemirror_mode": {
    "name": "ipython",
    "version": 3
   },
   "file_extension": ".py",
   "mimetype": "text/x-python",
   "name": "python",
   "nbconvert_exporter": "python",
   "pygments_lexer": "ipython3",
   "version": "3.7.6"
  }
 },
 "nbformat": 4,
 "nbformat_minor": 4
}
