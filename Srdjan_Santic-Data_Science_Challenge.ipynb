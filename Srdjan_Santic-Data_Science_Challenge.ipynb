{
 "cells": [
  {
   "cell_type": "markdown",
   "metadata": {},
   "source": [
    "# Travel Audience Data Science Challenge #"
   ]
  },
  {
   "cell_type": "markdown",
   "metadata": {},
   "source": [
    "## Goal ##"
   ]
  },
  {
   "cell_type": "markdown",
   "metadata": {},
   "source": [
    "One of the main problems we face at travel audience is identifying users that will eventually book a trip to an advertised destination. In this challenge, you are tasked to build a classifier to predict the conversion likelihood of a user based on previous search events, with emphasis on the feature engineering and evaluation part."
   ]
  },
  {
   "cell_type": "markdown",
   "metadata": {},
   "source": [
    "## Data ##"
   ]
  },
  {
   "cell_type": "markdown",
   "metadata": {},
   "source": [
    "You are provided with two sample data sets\n",
    "\n",
    "- `events.csv.gz` - A sample of events collected from an online travel agency, containing:\n",
    "  * `ts` - the timestamp of the event\n",
    "  * `event_type` - either `search` for searches made on the site, or `book` for a conversion, e.g. the user books the flight\n",
    "  * `user_id` - unique identifier of a user\n",
    "  * `date_from` - desired start date of the journey\n",
    "  * `date_to` - desired end date of the journey\n",
    "  * `origin` - IATA airport code of the origin airport\n",
    "  * `destination` - IATA airport code of the destination airport\n",
    "  * `num_adults` - number of adults\n",
    "  * `num_children` - number of children\n",
    "\n",
    "- `iata.csv` - containing geo-coordinates of major airports\n",
    "  * `iata_code` - IATA code of the airport\n",
    "  * `lat` - latitude in floating point format\n",
    "  * `lon` - longitude in floating point format"
   ]
  },
  {
   "cell_type": "markdown",
   "metadata": {},
   "source": [
    "## Tasks ##"
   ]
  },
  {
   "cell_type": "markdown",
   "metadata": {},
   "source": [
    "Your code needs to do the following:\n",
    "\n",
    "- Data preparation:\n",
    "  - Calculate the geographic distance between origins and destinations\n",
    "  - Convert raw data to a format suitable for the classification task\n",
    "- Feature_engineering:\n",
    "  - Based on the given input data, compute and justify three features of your choice that are relevant for predicting converters\n",
    "- Experimental design:\n",
    "  - Split data into test and training sets in a meaningful way\n",
    "- Model:\n",
    "  - A classifier of your choice that predicts the conversion-likelihood of a user\n",
    "\n",
    "Use your best judgment to define rules and logic to compute each feature. Don't forget to comment your code!"
   ]
  },
  {
   "cell_type": "markdown",
   "metadata": {},
   "source": [
    "## Deliverables ##"
   ]
  },
  {
   "cell_type": "markdown",
   "metadata": {},
   "source": [
    "Code & comments that satisfy the tasks and demonstrate your coding style in Python or R. In addition, instructions on how to run your code.\n",
    "\n",
    "We'll be evaluating the quality of your code, communication, and general solution design. We won't evaluate the actual performance of your model."
   ]
  },
  {
   "cell_type": "markdown",
   "metadata": {},
   "source": [
    "<br>\n",
    "<br>"
   ]
  },
  {
   "cell_type": "markdown",
   "metadata": {},
   "source": [
    "### Imports ###"
   ]
  },
  {
   "cell_type": "code",
   "execution_count": 1,
   "metadata": {},
   "outputs": [],
   "source": [
    "import numpy as np\n",
    "import pandas as pd\n",
    "from haversine import haversine, Unit\n",
    "from sklearn.model_selection import train_test_split\n",
    "from sklearn.ensemble import RandomForestClassifier\n",
    "from sklearn.metrics import accuracy_score, balanced_accuracy_score, precision_score, recall_score, f1_score, roc_auc_score, roc_curve\n",
    "from imblearn.over_sampling import SMOTE\n",
    "import matplotlib.pyplot as plt"
   ]
  },
  {
   "cell_type": "markdown",
   "metadata": {},
   "source": [
    "<br>\n",
    "<br>\n",
    "First, let's load the two datasets, and take a peek at them:"
   ]
  },
  {
   "cell_type": "code",
   "execution_count": 2,
   "metadata": {},
   "outputs": [],
   "source": [
    "events = pd.read_csv('events.csv')"
   ]
  },
  {
   "cell_type": "code",
   "execution_count": 3,
   "metadata": {},
   "outputs": [],
   "source": [
    "iata = pd.read_csv('iata.csv')"
   ]
  },
  {
   "cell_type": "code",
   "execution_count": 4,
   "metadata": {},
   "outputs": [
    {
     "data": {
      "text/html": [
       "<div>\n",
       "<style scoped>\n",
       "    .dataframe tbody tr th:only-of-type {\n",
       "        vertical-align: middle;\n",
       "    }\n",
       "\n",
       "    .dataframe tbody tr th {\n",
       "        vertical-align: top;\n",
       "    }\n",
       "\n",
       "    .dataframe thead th {\n",
       "        text-align: right;\n",
       "    }\n",
       "</style>\n",
       "<table border=\"1\" class=\"dataframe\">\n",
       "  <thead>\n",
       "    <tr style=\"text-align: right;\">\n",
       "      <th></th>\n",
       "      <th>ts</th>\n",
       "      <th>event_type</th>\n",
       "      <th>user_id</th>\n",
       "      <th>date_from</th>\n",
       "      <th>date_to</th>\n",
       "      <th>origin</th>\n",
       "      <th>destination</th>\n",
       "      <th>num_adults</th>\n",
       "      <th>num_children</th>\n",
       "    </tr>\n",
       "  </thead>\n",
       "  <tbody>\n",
       "    <tr>\n",
       "      <th>0</th>\n",
       "      <td>2017-04-27 11:06:51</td>\n",
       "      <td>search</td>\n",
       "      <td>60225f</td>\n",
       "      <td>2017-06-01</td>\n",
       "      <td>2017-06-07</td>\n",
       "      <td>PAR</td>\n",
       "      <td>NYC</td>\n",
       "      <td>6</td>\n",
       "      <td>1</td>\n",
       "    </tr>\n",
       "    <tr>\n",
       "      <th>1</th>\n",
       "      <td>2017-04-27 20:15:27</td>\n",
       "      <td>book</td>\n",
       "      <td>e5d69e</td>\n",
       "      <td>2017-08-12</td>\n",
       "      <td>2017-09-02</td>\n",
       "      <td>FRA</td>\n",
       "      <td>WAS</td>\n",
       "      <td>3</td>\n",
       "      <td>1</td>\n",
       "    </tr>\n",
       "    <tr>\n",
       "      <th>2</th>\n",
       "      <td>2017-04-27 23:03:43</td>\n",
       "      <td>book</td>\n",
       "      <td>f953f0</td>\n",
       "      <td>2017-10-08</td>\n",
       "      <td>2017-10-11</td>\n",
       "      <td>BER</td>\n",
       "      <td>CGN</td>\n",
       "      <td>2</td>\n",
       "      <td>0</td>\n",
       "    </tr>\n",
       "    <tr>\n",
       "      <th>3</th>\n",
       "      <td>2017-04-27 15:17:50</td>\n",
       "      <td>book</td>\n",
       "      <td>794d35</td>\n",
       "      <td>2017-04-28</td>\n",
       "      <td>2017-05-01</td>\n",
       "      <td>BER</td>\n",
       "      <td>BCN</td>\n",
       "      <td>1</td>\n",
       "      <td>0</td>\n",
       "    </tr>\n",
       "    <tr>\n",
       "      <th>4</th>\n",
       "      <td>2017-04-27 22:51:57</td>\n",
       "      <td>book</td>\n",
       "      <td>ca4f94</td>\n",
       "      <td>2017-05-16</td>\n",
       "      <td>2017-05-22</td>\n",
       "      <td>DEL</td>\n",
       "      <td>BKK</td>\n",
       "      <td>4</td>\n",
       "      <td>0</td>\n",
       "    </tr>\n",
       "  </tbody>\n",
       "</table>\n",
       "</div>"
      ],
      "text/plain": [
       "                    ts event_type user_id   date_from     date_to origin  \\\n",
       "0  2017-04-27 11:06:51     search  60225f  2017-06-01  2017-06-07    PAR   \n",
       "1  2017-04-27 20:15:27       book  e5d69e  2017-08-12  2017-09-02    FRA   \n",
       "2  2017-04-27 23:03:43       book  f953f0  2017-10-08  2017-10-11    BER   \n",
       "3  2017-04-27 15:17:50       book  794d35  2017-04-28  2017-05-01    BER   \n",
       "4  2017-04-27 22:51:57       book  ca4f94  2017-05-16  2017-05-22    DEL   \n",
       "\n",
       "  destination  num_adults  num_children  \n",
       "0         NYC           6             1  \n",
       "1         WAS           3             1  \n",
       "2         CGN           2             0  \n",
       "3         BCN           1             0  \n",
       "4         BKK           4             0  "
      ]
     },
     "execution_count": 4,
     "metadata": {},
     "output_type": "execute_result"
    }
   ],
   "source": [
    "events.head()"
   ]
  },
  {
   "cell_type": "code",
   "execution_count": 5,
   "metadata": {},
   "outputs": [
    {
     "data": {
      "text/html": [
       "<div>\n",
       "<style scoped>\n",
       "    .dataframe tbody tr th:only-of-type {\n",
       "        vertical-align: middle;\n",
       "    }\n",
       "\n",
       "    .dataframe tbody tr th {\n",
       "        vertical-align: top;\n",
       "    }\n",
       "\n",
       "    .dataframe thead th {\n",
       "        text-align: right;\n",
       "    }\n",
       "</style>\n",
       "<table border=\"1\" class=\"dataframe\">\n",
       "  <thead>\n",
       "    <tr style=\"text-align: right;\">\n",
       "      <th></th>\n",
       "      <th>iata_code</th>\n",
       "      <th>lat</th>\n",
       "      <th>lon</th>\n",
       "    </tr>\n",
       "  </thead>\n",
       "  <tbody>\n",
       "    <tr>\n",
       "      <th>0</th>\n",
       "      <td>PAR</td>\n",
       "      <td>-85.864998</td>\n",
       "      <td>-73.578576</td>\n",
       "    </tr>\n",
       "    <tr>\n",
       "      <th>1</th>\n",
       "      <td>FRA</td>\n",
       "      <td>-88.026756</td>\n",
       "      <td>-78.978109</td>\n",
       "    </tr>\n",
       "    <tr>\n",
       "      <th>2</th>\n",
       "      <td>BER</td>\n",
       "      <td>-85.879290</td>\n",
       "      <td>117.004643</td>\n",
       "    </tr>\n",
       "    <tr>\n",
       "      <th>3</th>\n",
       "      <td>DEL</td>\n",
       "      <td>-37.742818</td>\n",
       "      <td>-111.586759</td>\n",
       "    </tr>\n",
       "    <tr>\n",
       "      <th>4</th>\n",
       "      <td>SXF</td>\n",
       "      <td>77.838970</td>\n",
       "      <td>93.495812</td>\n",
       "    </tr>\n",
       "  </tbody>\n",
       "</table>\n",
       "</div>"
      ],
      "text/plain": [
       "  iata_code        lat         lon\n",
       "0       PAR -85.864998  -73.578576\n",
       "1       FRA -88.026756  -78.978109\n",
       "2       BER -85.879290  117.004643\n",
       "3       DEL -37.742818 -111.586759\n",
       "4       SXF  77.838970   93.495812"
      ]
     },
     "execution_count": 5,
     "metadata": {},
     "output_type": "execute_result"
    }
   ],
   "source": [
    "iata.head()"
   ]
  },
  {
   "cell_type": "markdown",
   "metadata": {},
   "source": [
    "<br>\n",
    "<br>\n",
    "We need to join these two datasets. We'll need to do the join twice - once for the coordinates for the origin airport, once for the coordinates for the destination airport. We'll also rename the columns as appropriate, and drop the ones we don't neeed."
   ]
  },
  {
   "cell_type": "code",
   "execution_count": 6,
   "metadata": {},
   "outputs": [],
   "source": [
    "events = events.merge(iata, how='left', left_on='origin', right_on='iata_code')\n",
    "events.rename(columns={'lat': 'origin_lat', 'lon': 'origin_lon'}, inplace=True)\n",
    "del events['iata_code']"
   ]
  },
  {
   "cell_type": "code",
   "execution_count": 7,
   "metadata": {},
   "outputs": [],
   "source": [
    "events = events.merge(iata, how='left', left_on='destination', right_on='iata_code')\n",
    "events.rename(columns={'lat': 'dest_lat', 'lon': 'dest_lon'}, inplace=True)\n",
    "del events['iata_code']"
   ]
  },
  {
   "cell_type": "markdown",
   "metadata": {},
   "source": [
    "<br>\n",
    "<br>\n",
    "Let's take a look at the distribution of labels, so as to see what kind of class imbalance we might be working with:"
   ]
  },
  {
   "cell_type": "code",
   "execution_count": 8,
   "metadata": {},
   "outputs": [
    {
     "data": {
      "text/plain": [
       "search    0.961516\n",
       "book      0.038484\n",
       "Name: event_type, dtype: float64"
      ]
     },
     "execution_count": 8,
     "metadata": {},
     "output_type": "execute_result"
    }
   ],
   "source": [
    "events['event_type'].value_counts(normalize=True)"
   ]
  },
  {
   "cell_type": "markdown",
   "metadata": {},
   "source": [
    "Only approximately 4% of the dataset is represented by bookings. This is important to note, as we'll have to take this into account when modeling."
   ]
  },
  {
   "cell_type": "markdown",
   "metadata": {},
   "source": [
    "<br>\n",
    "<br>"
   ]
  },
  {
   "cell_type": "markdown",
   "metadata": {},
   "source": [
    "### Feature Engineering ###"
   ]
  },
  {
   "cell_type": "markdown",
   "metadata": {},
   "source": [
    "Now we need to construct some features for the model, as we can't just use the original features. First, we're going to calculate the length of the trip:"
   ]
  },
  {
   "cell_type": "code",
   "execution_count": 9,
   "metadata": {},
   "outputs": [],
   "source": [
    "events['trip_len'] = (pd.to_datetime(events['date_to']) - pd.to_datetime(events['date_from'])).dt.days"
   ]
  },
  {
   "cell_type": "markdown",
   "metadata": {},
   "source": [
    "<br>\n",
    "<br>\n",
    "Next, we'll calculate the distance of the trip, based on the latitudes and longitudes, using the Haversine formula. The distance is caluclated in kilometers."
   ]
  },
  {
   "cell_type": "code",
   "execution_count": 10,
   "metadata": {},
   "outputs": [],
   "source": [
    "events['travel_dist'] = events.apply(lambda x: haversine((x['origin_lat'], x['origin_lon']), (x['dest_lat'], x['dest_lon']), unit=Unit.KILOMETERS), axis=1)"
   ]
  },
  {
   "cell_type": "markdown",
   "metadata": {},
   "source": [
    "<br>\n",
    "<br>\n",
    "Next, we're going to calculate the cumulative counts of the bookings and searches, respectively, for each user over time."
   ]
  },
  {
   "cell_type": "code",
   "execution_count": 11,
   "metadata": {},
   "outputs": [],
   "source": [
    "# Sort the dataset by timestamp\n",
    "events.sort_values('ts',inplace=True)"
   ]
  },
  {
   "cell_type": "code",
   "execution_count": 12,
   "metadata": {},
   "outputs": [],
   "source": [
    "# Reset the index\n",
    "events.reset_index(inplace=True)"
   ]
  },
  {
   "cell_type": "markdown",
   "metadata": {},
   "source": [
    "The idea is to reshape the `even`t column to multiple columns and use `GroupBy.cumcount` per all the groups, with removing missing values with `DataFrame.dropna`, and then forward filling misisng values by `GroupBy.ffill`. Finally, we join this dataframe with the original one using `DataFrame.join`:"
   ]
  },
  {
   "cell_type": "code",
   "execution_count": 14,
   "metadata": {},
   "outputs": [],
   "source": [
    "counter = events.set_index('event_type', append=True)['user_id'].unstack().add_prefix('num_')\n",
    "counter = pd.concat([counter.dropna(subset=[c]).groupby(c).cumcount().add(1) \n",
    "                                             for c in counter.columns], axis=1, keys=counter.columns)\n",
    "events = events.join(counter.groupby(events['user_id']).ffill().fillna(0).astype(int))"
   ]
  },
  {
   "cell_type": "code",
   "execution_count": 15,
   "metadata": {},
   "outputs": [],
   "source": [
    "#############################################\n",
    "#\n",
    "# HACK: Impute mean for the travel_len column\n",
    "#\n",
    "#############################################\n",
    "\n",
    "events['trip_len'].fillna((events['trip_len'].mean()), inplace=True)"
   ]
  },
  {
   "cell_type": "code",
   "execution_count": null,
   "metadata": {},
   "outputs": [],
   "source": []
  },
  {
   "cell_type": "markdown",
   "metadata": {},
   "source": [
    "<br>\n",
    "<br>"
   ]
  },
  {
   "cell_type": "markdown",
   "metadata": {},
   "source": [
    "### Train/Test Split ###"
   ]
  },
  {
   "cell_type": "markdown",
   "metadata": {},
   "source": [
    "In order to successfully train a model, we can't use the entire dataset. Training and testing a model on the same data can lead to overfitting, as we can't be sure how the model will generalize, i.e. perform on new, unseen data. This is why we split our original dataset into a trainining dataset, used for building a model, and a testing dataset, used for testing the model's performance on new data. Ratio's of 80:20 and 70:30 are common, and here we'll go with 70:30, due to the small number of cases. We'll also set the seed for the random number generator, in order to ensure reproducibility. Finally, we'll opt for stratified sampling, in order to ensure that the distribution of classes in both datasets is as close as possible."
   ]
  },
  {
   "cell_type": "markdown",
   "metadata": {},
   "source": [
    "<br>\n",
    "<br>\n",
    "As we have a series of events that can be either `search` or `book`, and for a combination of user and journey over time, it gives us a sequence of events. Taking the last instance of that sequence of events, tells us whether it resulted in a booking, or not. "
   ]
  },
  {
   "cell_type": "code",
   "execution_count": 30,
   "metadata": {},
   "outputs": [],
   "source": [
    "events_grouped = events.groupby(['user_id', 'origin', 'destination']).tail(1)"
   ]
  },
  {
   "cell_type": "code",
   "execution_count": 31,
   "metadata": {},
   "outputs": [
    {
     "data": {
      "text/plain": [
       "search    31870\n",
       "book       1611\n",
       "Name: event_type, dtype: int64"
      ]
     },
     "execution_count": 31,
     "metadata": {},
     "output_type": "execute_result"
    }
   ],
   "source": [
    "events_grouped['event_type'].value_counts()"
   ]
  },
  {
   "cell_type": "code",
   "execution_count": 32,
   "metadata": {},
   "outputs": [],
   "source": [
    "modeling_df = events_grouped[['num_adults', 'num_children', 'trip_len', 'travel_dist', 'num_book', 'num_search', 'event_type']]"
   ]
  },
  {
   "cell_type": "code",
   "execution_count": 33,
   "metadata": {},
   "outputs": [
    {
     "data": {
      "text/html": [
       "<div>\n",
       "<style scoped>\n",
       "    .dataframe tbody tr th:only-of-type {\n",
       "        vertical-align: middle;\n",
       "    }\n",
       "\n",
       "    .dataframe tbody tr th {\n",
       "        vertical-align: top;\n",
       "    }\n",
       "\n",
       "    .dataframe thead th {\n",
       "        text-align: right;\n",
       "    }\n",
       "</style>\n",
       "<table border=\"1\" class=\"dataframe\">\n",
       "  <thead>\n",
       "    <tr style=\"text-align: right;\">\n",
       "      <th></th>\n",
       "      <th>num_adults</th>\n",
       "      <th>num_children</th>\n",
       "      <th>trip_len</th>\n",
       "      <th>travel_dist</th>\n",
       "      <th>num_book</th>\n",
       "      <th>num_search</th>\n",
       "      <th>event_type</th>\n",
       "    </tr>\n",
       "  </thead>\n",
       "  <tbody>\n",
       "    <tr>\n",
       "      <th>6</th>\n",
       "      <td>1</td>\n",
       "      <td>0</td>\n",
       "      <td>7.0</td>\n",
       "      <td>10404.864529</td>\n",
       "      <td>0</td>\n",
       "      <td>1</td>\n",
       "      <td>search</td>\n",
       "    </tr>\n",
       "    <tr>\n",
       "      <th>10</th>\n",
       "      <td>2</td>\n",
       "      <td>0</td>\n",
       "      <td>0.0</td>\n",
       "      <td>15028.160110</td>\n",
       "      <td>0</td>\n",
       "      <td>2</td>\n",
       "      <td>search</td>\n",
       "    </tr>\n",
       "    <tr>\n",
       "      <th>19</th>\n",
       "      <td>2</td>\n",
       "      <td>0</td>\n",
       "      <td>9.0</td>\n",
       "      <td>10420.211956</td>\n",
       "      <td>0</td>\n",
       "      <td>2</td>\n",
       "      <td>search</td>\n",
       "    </tr>\n",
       "    <tr>\n",
       "      <th>20</th>\n",
       "      <td>2</td>\n",
       "      <td>0</td>\n",
       "      <td>4.0</td>\n",
       "      <td>15028.160110</td>\n",
       "      <td>1</td>\n",
       "      <td>5</td>\n",
       "      <td>book</td>\n",
       "    </tr>\n",
       "    <tr>\n",
       "      <th>25</th>\n",
       "      <td>1</td>\n",
       "      <td>0</td>\n",
       "      <td>0.0</td>\n",
       "      <td>6560.632422</td>\n",
       "      <td>1</td>\n",
       "      <td>3</td>\n",
       "      <td>book</td>\n",
       "    </tr>\n",
       "  </tbody>\n",
       "</table>\n",
       "</div>"
      ],
      "text/plain": [
       "    num_adults  num_children  trip_len   travel_dist  num_book  num_search  \\\n",
       "6            1             0       7.0  10404.864529         0           1   \n",
       "10           2             0       0.0  15028.160110         0           2   \n",
       "19           2             0       9.0  10420.211956         0           2   \n",
       "20           2             0       4.0  15028.160110         1           5   \n",
       "25           1             0       0.0   6560.632422         1           3   \n",
       "\n",
       "   event_type  \n",
       "6      search  \n",
       "10     search  \n",
       "19     search  \n",
       "20       book  \n",
       "25       book  "
      ]
     },
     "execution_count": 33,
     "metadata": {},
     "output_type": "execute_result"
    }
   ],
   "source": [
    "modeling_df.head()"
   ]
  },
  {
   "cell_type": "code",
   "execution_count": 34,
   "metadata": {},
   "outputs": [],
   "source": [
    "X_train, X_test, y_train, y_test = train_test_split(modeling_df, modeling_df['event_type'],\n",
    "                                                    test_size=0.3, random_state=176, stratify=modeling_df['event_type'])"
   ]
  },
  {
   "cell_type": "code",
   "execution_count": 35,
   "metadata": {},
   "outputs": [],
   "source": [
    "X_train = X_train.drop('event_type', axis=1)\n",
    "X_test = X_test.drop('event_type', axis=1)"
   ]
  },
  {
   "cell_type": "markdown",
   "metadata": {},
   "source": [
    "<br>\n",
    "<br>"
   ]
  },
  {
   "cell_type": "markdown",
   "metadata": {},
   "source": [
    "### Resampling with SMOTE and training a Random Forest model ###"
   ]
  },
  {
   "cell_type": "markdown",
   "metadata": {},
   "source": [
    "As we're facing a class imbalance in the dataset, we can't just train a model on the data from the outset. This would generate a model which does very well on the negative (majority) class, while very poorly on the positive (minority) class. Here, it's resampling to the rescue. We can generate a synthetic dataset that has the classes balanced out in a better way. Upsampling and downsampling are common techinques, but here we're going to go with a more advanced algorithm - SMOTE (Synthetic Minority Oversampling Technique). Note how we set the radnom state, both for SMOTE and the Random Forest, in order to ensure reproducibility."
   ]
  },
  {
   "cell_type": "code",
   "execution_count": 20,
   "metadata": {},
   "outputs": [],
   "source": [
    "# Create the synthetic training data\n",
    "sm = SMOTE(random_state=205)\n",
    "X_train, y_train = sm.fit_sample(X_train, y_train)"
   ]
  },
  {
   "cell_type": "code",
   "execution_count": 21,
   "metadata": {},
   "outputs": [],
   "source": [
    "# Train a Random Forest Classifier and generate predictions\n",
    "smote_rf = RandomForestClassifier(random_state=366).fit(X_train, y_train)\n",
    "preds = smote_rf.predict(X_test)"
   ]
  },
  {
   "cell_type": "code",
   "execution_count": 23,
   "metadata": {},
   "outputs": [],
   "source": [
    "# Calculate accuracy metrics\n",
    "accuracy = accuracy_score(y_test, preds)\n",
    "balanced_acc = balanced_accuracy_score(y_test, preds)\n",
    "precision = precision_score(y_test, preds, pos_label='book')\n",
    "recall = recall_score(y_test, preds, pos_label='book')\n",
    "f1 = f1_score(y_test, preds, pos_label='book')"
   ]
  },
  {
   "cell_type": "code",
   "execution_count": 24,
   "metadata": {},
   "outputs": [],
   "source": [
    "# Prepare the ROC AUC calculation, and calculate\n",
    "y_test_auc = np.where(y_test == 'book', 1, 0)\n",
    "preds_auc = np.where(preds == 'book', 1, 0)\n",
    "\n",
    "auc = roc_auc_score(y_test_auc, preds_auc)"
   ]
  },
  {
   "cell_type": "markdown",
   "metadata": {},
   "source": [
    "<br>\n",
    "<br>"
   ]
  },
  {
   "cell_type": "markdown",
   "metadata": {},
   "source": [
    "### Presenting the results of the Random Forest model ###"
   ]
  },
  {
   "cell_type": "markdown",
   "metadata": {},
   "source": [
    "Now we're going to create a DataFrame which shows the various accuracy metrics for the model:"
   ]
  },
  {
   "cell_type": "code",
   "execution_count": 25,
   "metadata": {},
   "outputs": [
    {
     "data": {
      "text/html": [
       "<div>\n",
       "<style scoped>\n",
       "    .dataframe tbody tr th:only-of-type {\n",
       "        vertical-align: middle;\n",
       "    }\n",
       "\n",
       "    .dataframe tbody tr th {\n",
       "        vertical-align: top;\n",
       "    }\n",
       "\n",
       "    .dataframe thead th {\n",
       "        text-align: right;\n",
       "    }\n",
       "</style>\n",
       "<table border=\"1\" class=\"dataframe\">\n",
       "  <thead>\n",
       "    <tr style=\"text-align: right;\">\n",
       "      <th></th>\n",
       "      <th>Metrics</th>\n",
       "    </tr>\n",
       "  </thead>\n",
       "  <tbody>\n",
       "    <tr>\n",
       "      <th>Accuracy</th>\n",
       "      <td>0.984259</td>\n",
       "    </tr>\n",
       "    <tr>\n",
       "      <th>Balanced Accuracy</th>\n",
       "      <td>0.966180</td>\n",
       "    </tr>\n",
       "    <tr>\n",
       "      <th>Precision</th>\n",
       "      <td>0.727016</td>\n",
       "    </tr>\n",
       "    <tr>\n",
       "      <th>Recall</th>\n",
       "      <td>0.946593</td>\n",
       "    </tr>\n",
       "    <tr>\n",
       "      <th>F1 Score</th>\n",
       "      <td>0.822400</td>\n",
       "    </tr>\n",
       "    <tr>\n",
       "      <th>AUROC</th>\n",
       "      <td>0.966180</td>\n",
       "    </tr>\n",
       "  </tbody>\n",
       "</table>\n",
       "</div>"
      ],
      "text/plain": [
       "                    Metrics\n",
       "Accuracy           0.984259\n",
       "Balanced Accuracy  0.966180\n",
       "Precision          0.727016\n",
       "Recall             0.946593\n",
       "F1 Score           0.822400\n",
       "AUROC              0.966180"
      ]
     },
     "execution_count": 25,
     "metadata": {},
     "output_type": "execute_result"
    }
   ],
   "source": [
    "metrics = {'Metrics': [accuracy, balanced_acc, precision, recall, f1, auc]}\n",
    "metrics_df = pd.DataFrame(metrics, index=['Accuracy', 'Balanced Accuracy', 'Precision', 'Recall', 'F1 Score', 'AUROC'])\n",
    "metrics_df"
   ]
  },
  {
   "cell_type": "markdown",
   "metadata": {},
   "source": [
    "<br>\n",
    "<br>"
   ]
  },
  {
   "cell_type": "markdown",
   "metadata": {},
   "source": [
    "### ROC Curve for the SMOTE Random Forest ###"
   ]
  },
  {
   "cell_type": "markdown",
   "metadata": {},
   "source": [
    "Let's plot the Receiver Operating Characteristic curve for the our model. This curve plots the relationship between the True Positive Rate (a.k.a. Sensitivity) and the False Positive Rate (a.k.a. 1 - Specificity)."
   ]
  },
  {
   "cell_type": "code",
   "execution_count": 26,
   "metadata": {},
   "outputs": [],
   "source": [
    "fpr, tpr, thresholds = roc_curve(y_test_auc, preds_auc)"
   ]
  },
  {
   "cell_type": "code",
   "execution_count": 27,
   "metadata": {},
   "outputs": [
    {
     "data": {
      "text/plain": [
       "<matplotlib.legend.Legend at 0x1b70d75d308>"
      ]
     },
     "execution_count": 27,
     "metadata": {},
     "output_type": "execute_result"
    },
    {
     "data": {
      "image/png": "[encoded data removed]",
      "text/plain": [
       "<Figure size 432x288 with 1 Axes>"
      ]
     },
     "metadata": {
      "needs_background": "light"
     },
     "output_type": "display_data"
    }
   ],
   "source": [
    "plt.figure()\n",
    "lw = 2\n",
    "plt.plot(fpr, tpr, color='darkorange', lw=lw, label='ROC Curve (Area = %0.2f)' % auc)\n",
    "plt.plot([0, 1], [0, 1], color='navy', lw=lw, linestyle='--')\n",
    "plt.xlim([0.0, 1.0])\n",
    "plt.ylim([0.0, 1.05])\n",
    "plt.xlabel('False Positive Rate')\n",
    "plt.ylabel('True Positive Rate')\n",
    "plt.title('Receiver Operating Characteristic Curve for SMOTE')\n",
    "plt.legend(loc=\"lower right\")"
   ]
  },
  {
   "cell_type": "markdown",
   "metadata": {},
   "source": [
    "<br>\n",
    "<br>"
   ]
  },
  {
   "cell_type": "markdown",
   "metadata": {},
   "source": [
    "### Feature Importance ###"
   ]
  },
  {
   "cell_type": "markdown",
   "metadata": {},
   "source": [
    "Finally, let's show the relative importance of the features. Feature importance is calculated by reshuffling the rows of each feature, re-fitting the model and re-predicting, and calculating the drop in accuracy after this is done."
   ]
  },
  {
   "cell_type": "code",
   "execution_count": 28,
   "metadata": {},
   "outputs": [
    {
     "data": {
      "text/plain": [
       "<matplotlib.axes._subplots.AxesSubplot at 0x1b70c9d45c8>"
      ]
     },
     "execution_count": 28,
     "metadata": {},
     "output_type": "execute_result"
    },
    {
     "data": {
      "image/png": "[encoded data removed]",
      "text/plain": [
       "<Figure size 432x288 with 1 Axes>"
      ]
     },
     "metadata": {
      "needs_background": "light"
     },
     "output_type": "display_data"
    }
   ],
   "source": [
    "feat_importances = pd.Series(smote_rf.feature_importances_, index=X_train.columns)\n",
    "feat_importances.plot(kind='barh')"
   ]
  },
  {
   "cell_type": "code",
   "execution_count": null,
   "metadata": {},
   "outputs": [],
   "source": []
  }
 ],
 "metadata": {
  "kernelspec": {
   "display_name": "Python 3",
   "language": "python",
   "name": "python3"
  },
  "language_info": {
   "codemirror_mode": {
    "name": "ipython",
    "version": 3
   },
   "file_extension": ".py",
   "mimetype": "text/x-python",
   "name": "python",
   "nbconvert_exporter": "python",
   "pygments_lexer": "ipython3",
   "version": "3.7.6"
  }
 },
 "nbformat": 4,
 "nbformat_minor": 4
}
